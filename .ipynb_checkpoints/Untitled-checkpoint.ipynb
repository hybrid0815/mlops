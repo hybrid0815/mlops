{
 "cells": [
  {
   "cell_type": "code",
   "execution_count": 2,
   "id": "1844590b-c077-4ba3-8c38-6e0d6c1cb990",
   "metadata": {},
   "outputs": [
    {
     "name": "stdout",
     "output_type": "stream",
     "text": [
      "hello wolrd\n"
     ]
    }
   ],
   "source": [
    "print(\"hello wolrd\")"
   ]
  },
  {
   "cell_type": "code",
   "execution_count": null,
   "id": "c80b50e7-7cad-41ce-b4ff-7e168b29b3ae",
   "metadata": {},
   "outputs": [],
   "source": []
  },
  {
   "cell_type": "markdown",
   "id": "a0492ef8-f187-4833-8581-da5bb126e3f9",
   "metadata": {},
   "source": [
    "python -m venv .venv\n",
    "\n",
    "git version\n",
    "\n",
    "git config --global user.name \"hybrid0815\"\n",
    "\n",
    "git config --global user.email \"hybrid0815@gmail.com\"\n",
    "\n",
    "git config --global --list"
   ]
  },
  {
   "cell_type": "code",
   "execution_count": 3,
   "id": "121cbaf4-cc4e-40e4-b092-a53837465962",
   "metadata": {},
   "outputs": [
    {
     "name": "stdout",
     "output_type": "stream",
     "text": [
      "core.autocrlf=true\n",
      "user.name=kim_geunmo\n",
      "user.email=hybrid0815@gmail.com\n",
      "init.defaultbranch=main\n"
     ]
    }
   ],
   "source": [
    "!git config --global --list"
   ]
  },
  {
   "cell_type": "markdown",
   "id": "0e13f3a6-3ae2-4e21-91c6-777698e2f934",
   "metadata": {},
   "source": [
    "git init\n",
    "\n",
    "git status\n",
    "\n",
    "git add file1.py\n",
    "\n",
    "git status\n",
    "\n",
    "git commit -m \"My first commit\"\n",
    "\n",
    "git logS\n"
   ]
  },
  {
   "cell_type": "markdown",
   "id": "cac55cc0-5df3-4dd8-9d94-aca130531f59",
   "metadata": {},
   "source": [
    "git branch # 브렌치 확인\n",
    "\n",
    "git branch dev # 브렌치 생성"
   ]
  },
  {
   "cell_type": "markdown",
   "id": "7ee0381d-3062-4ec8-901e-18c93df16b9d",
   "metadata": {},
   "source": [
    "git switch dev\n",
    "\n"
   ]
  },
  {
   "cell_type": "code",
   "execution_count": null,
   "id": "50735ae9-ec69-4066-8d1b-147df74ab72c",
   "metadata": {},
   "outputs": [],
   "source": []
  },
  {
   "cell_type": "code",
   "execution_count": null,
   "id": "0b0e33dc-76cc-4595-98d1-2580fb6a28b5",
   "metadata": {},
   "outputs": [],
   "source": []
  }
 ],
 "metadata": {
  "kernelspec": {
   "display_name": "Python 3 (ipykernel)",
   "language": "python",
   "name": "python3"
  },
  "language_info": {
   "codemirror_mode": {
    "name": "ipython",
    "version": 3
   },
   "file_extension": ".py",
   "mimetype": "text/x-python",
   "name": "python",
   "nbconvert_exporter": "python",
   "pygments_lexer": "ipython3",
   "version": "3.10.8"
  }
 },
 "nbformat": 4,
 "nbformat_minor": 5
}
